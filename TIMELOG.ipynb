{
 "cells": [
  {
   "cell_type": "markdown",
   "metadata": {},
   "source": [
    "# <center> Time Log"
   ]
  },
  {
   "cell_type": "code",
   "execution_count": 1,
   "metadata": {
    "jupyter": {
     "source_hidden": true
    }
   },
   "outputs": [],
   "source": [
    "import ipywidgets as wd\n",
    "import watson as wt"
   ]
  },
  {
   "cell_type": "code",
   "execution_count": 2,
   "metadata": {
    "jupyter": {
     "source_hidden": true
    }
   },
   "outputs": [],
   "source": [
    "# HIDDEN \n",
    "pwd = !pwd\n",
    "WATSON_DIR = pwd[0]\n",
    "\n",
    "W = wt.Watson(config_dir=WATSON_DIR)\n",
    "\n",
    "start_button = wd.Button(description='Start')\n",
    "stop_button = wd.Button(description='Stop')\n",
    "cancel_button = wd.Button(description='Cancel')\n",
    "\n",
    "add_button = wd.Button(description='Add')\n",
    "rem_button = wd.Button(description='Remove')\n",
    "\n",
    "project_box = wd.Text(description='Project')\n",
    "tag_box = wd.Text(description='Tag')\n",
    "\n",
    "project_list = W.projects\n",
    "tag_list = W.tags\n",
    "\n",
    "project_buttons = wd.RadioButtons(options=project_list)\n",
    "tag_buttons = wd.SelectMultiple(options=tag_list)\n",
    "text_area = wd.Textarea()\n"
   ]
  },
  {
   "cell_type": "code",
   "execution_count": 3,
   "metadata": {
    "jupyter": {
     "source_hidden": true
    }
   },
   "outputs": [],
   "source": [
    "# HIDDEN \n",
    "def update_buttons(buttons, item, remove=False):\n",
    "    if item != '':\n",
    "        options = list(buttons.options)\n",
    "        if remove:\n",
    "            options = [t for t in options if t!=item]\n",
    "        else:\n",
    "            if item not in options:\n",
    "                options.append(item)\n",
    "        buttons.options = options\n",
    "#     return buttons\n",
    "\n",
    "def add_callback(b):\n",
    "    update_buttons(project_buttons, project_box.value)\n",
    "    update_buttons(tag_buttons, tag_box.value)\n",
    "    \n",
    "def rem_callback(b):\n",
    "    update_buttons(project_buttons, project_box.value, remove=True)\n",
    "    update_buttons(tag_buttons, tag_box.value, remove=True)\n",
    "    \n",
    "def start_callback(b):\n",
    "    W.start(project=project_buttons.value, tags=list(tag_buttons.value))\n",
    "    W.save()\n",
    "    show_status(b)\n",
    "\n",
    "def stop_callback(b):\n",
    "    show_status(b)\n",
    "    W.stop()\n",
    "    W.save()\n",
    "    text_area.value = 'Stopped ' + text_area.value\n",
    "    \n",
    "def cancel_callback(b):\n",
    "    show_status(b)\n",
    "    W.cancel()\n",
    "    W.save()\n",
    "    text_area.value = 'Cancelled ' + text_area.value\n",
    "    \n",
    "def show_status(b):\n",
    "    status_string = ! WATSON_DIR=/home/jovyan/work/time watson status\n",
    "    text_area.value = status_string[0]\n",
    "    \n",
    "add_button.on_click(add_callback)\n",
    "rem_button.on_click(rem_callback)\n",
    "start_button.on_click(start_callback)\n",
    "stop_button.on_click(stop_callback)\n",
    "cancel_button.on_click(cancel_callback)\n",
    "text_area.on_displayed(show_status)\n"
   ]
  },
  {
   "cell_type": "markdown",
   "metadata": {},
   "source": [
    "You won't be adding/deleting tags from the history, just this interface, so don't worry about deleting things, you can always re-run the notebook."
   ]
  },
  {
   "cell_type": "code",
   "execution_count": null,
   "metadata": {
    "jupyter": {
     "source_hidden": true
    }
   },
   "outputs": [],
   "source": [
    "# HIDDEN \n",
    "gui = wd.VBox([\n",
    "    wd.HBox([ wd.VBox([project_box, tag_box]),\n",
    "              wd.VBox([add_button, rem_button]),\n",
    "              text_area\n",
    "            ]),\n",
    "    wd.HBox([wd.VBox([wd.Label(\"Summary\"), start_button, stop_button, cancel_button]), \n",
    "             wd.VBox([wd.Label(\"Projects\"), project_buttons]), \n",
    "             wd.VBox([wd.Label(\"Tags\"), tag_buttons]) ])\n",
    "    ])"
   ]
  },
  {
   "cell_type": "code",
   "execution_count": null,
   "metadata": {
    "jupyter": {
     "source_hidden": true
    }
   },
   "outputs": [
    {
     "data": {
      "application/vnd.jupyter.widget-view+json": {
       "model_id": "411a7ca0178844579ef7832bae1a8309",
       "version_major": 2,
       "version_minor": 0
      },
      "text/plain": [
       "VBox(children=(HBox(children=(VBox(children=(Text(value='', description='Project'), Text(value='', description…"
      ]
     },
     "metadata": {},
     "output_type": "display_data"
    }
   ],
   "source": [
    "gui"
   ]
  },
  {
   "cell_type": "code",
   "execution_count": null,
   "metadata": {
    "jupyter": {
     "source_hidden": true
    }
   },
   "outputs": [],
   "source": []
  },
  {
   "cell_type": "markdown",
   "metadata": {},
   "source": [
    "## Summary Statistics\n",
    "If you want to remove entries, edit `work/time/frames`. Or in command-line, `watson edit -N`, where `N` is a number of entries back."
   ]
  },
  {
   "cell_type": "code",
   "execution_count": null,
   "metadata": {
    "jupyter": {
     "source_hidden": true
    }
   },
   "outputs": [],
   "source": [
    "! WATSON_DIR=$WATSON_DIR watson report --day"
   ]
  },
  {
   "cell_type": "code",
   "execution_count": null,
   "metadata": {
    "jupyter": {
     "source_hidden": true
    }
   },
   "outputs": [],
   "source": [
    "! WATSON_DIR=$WATSON_DIR watson report --week"
   ]
  },
  {
   "cell_type": "code",
   "execution_count": null,
   "metadata": {
    "jupyter": {
     "source_hidden": true
    }
   },
   "outputs": [],
   "source": []
  }
 ],
 "metadata": {
  "kernelspec": {
   "display_name": "Python 3",
   "language": "python",
   "name": "python3"
  },
  "language_info": {
   "codemirror_mode": {
    "name": "ipython",
    "version": 3
   },
   "file_extension": ".py",
   "mimetype": "text/x-python",
   "name": "python",
   "nbconvert_exporter": "python",
   "pygments_lexer": "ipython3",
   "version": "3.7.2"
  }
 },
 "nbformat": 4,
 "nbformat_minor": 2
}
